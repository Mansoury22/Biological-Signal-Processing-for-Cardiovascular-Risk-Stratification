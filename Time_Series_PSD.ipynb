{
 "cells": [
  {
   "cell_type": "code",
   "execution_count": 1,
   "metadata": {
    "id": "3Qa49bv1YCIh"
   },
   "outputs": [],
   "source": [
    "import pandas as pd\n",
    "import numpy as np\n",
    "import matplotlib.pyplot as plt\n",
    "import os\n",
    "import shutil\n",
    "import random\n",
    "from tqdm.notebook import tqdm\n",
    "from scipy import signal\n",
    "from scipy.integrate import trapz"
   ]
  },
  {
   "cell_type": "code",
   "execution_count": 2,
   "metadata": {
    "colab": {
     "base_uri": "https://localhost:8080/"
    },
    "id": "xJv01V8DX_OR",
    "outputId": "8daacb18-20f3-4df3-8269-4b1f22377da2"
   },
   "outputs": [
    {
     "data": {
      "text/plain": [
       "(142, 304005)"
      ]
     },
     "execution_count": 2,
     "metadata": {},
     "output_type": "execute_result"
    }
   ],
   "source": [
    "# Read Data and Data Preprocessing\n",
    "\n",
    "df = pd.read_excel(\"ML AP Data 2023 Full Series(Jan2).xlsx\")\n",
    "df.replace(r'^\\s*$', np.nan, regex=True)\n",
    "df = df.T.reset_index()\n",
    "df.columns = df.iloc[0, :]\n",
    "df = df.iloc[1:, :304005]\n",
    "df.shape"
   ]
  },
  {
   "cell_type": "code",
   "execution_count": 3,
   "metadata": {
    "colab": {
     "base_uri": "https://localhost:8080/",
     "height": 413
    },
    "id": "M_b9HPyDYBuV",
    "outputId": "458e13d2-a97d-40d1-e994-07bb48074fc7"
   },
   "outputs": [
    {
     "data": {
      "text/html": [
       "<div>\n",
       "<style scoped>\n",
       "    .dataframe tbody tr th:only-of-type {\n",
       "        vertical-align: middle;\n",
       "    }\n",
       "\n",
       "    .dataframe tbody tr th {\n",
       "        vertical-align: top;\n",
       "    }\n",
       "\n",
       "    .dataframe thead th {\n",
       "        text-align: right;\n",
       "    }\n",
       "</style>\n",
       "<table border=\"1\" class=\"dataframe\">\n",
       "  <thead>\n",
       "    <tr style=\"text-align: right;\">\n",
       "      <th></th>\n",
       "      <th>1</th>\n",
       "      <th>2</th>\n",
       "      <th>3</th>\n",
       "      <th>4</th>\n",
       "      <th>5</th>\n",
       "      <th>6</th>\n",
       "      <th>7</th>\n",
       "      <th>8</th>\n",
       "      <th>9</th>\n",
       "      <th>10</th>\n",
       "      <th>...</th>\n",
       "      <th>133</th>\n",
       "      <th>134</th>\n",
       "      <th>135</th>\n",
       "      <th>136</th>\n",
       "      <th>137</th>\n",
       "      <th>138</th>\n",
       "      <th>139</th>\n",
       "      <th>140</th>\n",
       "      <th>141</th>\n",
       "      <th>142</th>\n",
       "    </tr>\n",
       "    <tr>\n",
       "      <th>Time</th>\n",
       "      <th></th>\n",
       "      <th></th>\n",
       "      <th></th>\n",
       "      <th></th>\n",
       "      <th></th>\n",
       "      <th></th>\n",
       "      <th></th>\n",
       "      <th></th>\n",
       "      <th></th>\n",
       "      <th></th>\n",
       "      <th></th>\n",
       "      <th></th>\n",
       "      <th></th>\n",
       "      <th></th>\n",
       "      <th></th>\n",
       "      <th></th>\n",
       "      <th></th>\n",
       "      <th></th>\n",
       "      <th></th>\n",
       "      <th></th>\n",
       "      <th></th>\n",
       "    </tr>\n",
       "  </thead>\n",
       "  <tbody>\n",
       "    <tr>\n",
       "      <th>1970-01-01 00:00:00.000</th>\n",
       "      <td>130.1223</td>\n",
       "      <td>130.4467</td>\n",
       "      <td>131.7845</td>\n",
       "      <td>172.6916</td>\n",
       "      <td>154.5692</td>\n",
       "      <td>155.522</td>\n",
       "      <td>131.0142</td>\n",
       "      <td>126.5749</td>\n",
       "      <td>148.0217</td>\n",
       "      <td>155.6233</td>\n",
       "      <td>...</td>\n",
       "      <td>136.5482</td>\n",
       "      <td>120.8382</td>\n",
       "      <td>156.1301</td>\n",
       "      <td>160.6708</td>\n",
       "      <td>122.845</td>\n",
       "      <td>167.2386</td>\n",
       "      <td>150.5961</td>\n",
       "      <td>145.731</td>\n",
       "      <td>160.4884</td>\n",
       "      <td>161.1979</td>\n",
       "    </tr>\n",
       "    <tr>\n",
       "      <th>1970-01-01 00:00:00.001</th>\n",
       "      <td>129.9399</td>\n",
       "      <td>130.1021</td>\n",
       "      <td>131.4399</td>\n",
       "      <td>173.6038</td>\n",
       "      <td>154.9138</td>\n",
       "      <td>155.2382</td>\n",
       "      <td>130.5075</td>\n",
       "      <td>126.2911</td>\n",
       "      <td>147.7784</td>\n",
       "      <td>156.0085</td>\n",
       "      <td>...</td>\n",
       "      <td>137.2375</td>\n",
       "      <td>120.453</td>\n",
       "      <td>155.8666</td>\n",
       "      <td>159.9005</td>\n",
       "      <td>122.7031</td>\n",
       "      <td>167.9279</td>\n",
       "      <td>150.4339</td>\n",
       "      <td>146.7649</td>\n",
       "      <td>159.8194</td>\n",
       "      <td>161.1168</td>\n",
       "    </tr>\n",
       "    <tr>\n",
       "      <th>1970-01-01 00:00:00.002</th>\n",
       "      <td>129.6561</td>\n",
       "      <td>129.6764</td>\n",
       "      <td>131.2778</td>\n",
       "      <td>174.4146</td>\n",
       "      <td>155.4409</td>\n",
       "      <td>154.8733</td>\n",
       "      <td>130.1831</td>\n",
       "      <td>125.9059</td>\n",
       "      <td>147.4946</td>\n",
       "      <td>156.5558</td>\n",
       "      <td>...</td>\n",
       "      <td>138.0888</td>\n",
       "      <td>119.9462</td>\n",
       "      <td>155.6841</td>\n",
       "      <td>159.3532</td>\n",
       "      <td>122.2571</td>\n",
       "      <td>168.6779</td>\n",
       "      <td>150.2515</td>\n",
       "      <td>147.6771</td>\n",
       "      <td>158.9275</td>\n",
       "      <td>160.8938</td>\n",
       "    </tr>\n",
       "    <tr>\n",
       "      <th>1970-01-01 00:00:00.003</th>\n",
       "      <td>129.3926</td>\n",
       "      <td>129.1899</td>\n",
       "      <td>130.9737</td>\n",
       "      <td>175.1241</td>\n",
       "      <td>155.7652</td>\n",
       "      <td>154.63</td>\n",
       "      <td>129.7777</td>\n",
       "      <td>125.5613</td>\n",
       "      <td>147.2919</td>\n",
       "      <td>157.0423</td>\n",
       "      <td>...</td>\n",
       "      <td>138.9402</td>\n",
       "      <td>119.6016</td>\n",
       "      <td>155.4814</td>\n",
       "      <td>158.8464</td>\n",
       "      <td>122.0342</td>\n",
       "      <td>169.286</td>\n",
       "      <td>149.988</td>\n",
       "      <td>148.6501</td>\n",
       "      <td>158.3396</td>\n",
       "      <td>160.6505</td>\n",
       "    </tr>\n",
       "    <tr>\n",
       "      <th>1970-01-01 00:00:00.004</th>\n",
       "      <td>129.0074</td>\n",
       "      <td>128.9466</td>\n",
       "      <td>130.7102</td>\n",
       "      <td>175.9552</td>\n",
       "      <td>156.1098</td>\n",
       "      <td>154.4476</td>\n",
       "      <td>129.575</td>\n",
       "      <td>125.014</td>\n",
       "      <td>147.1906</td>\n",
       "      <td>157.5896</td>\n",
       "      <td>...</td>\n",
       "      <td>139.7511</td>\n",
       "      <td>119.257</td>\n",
       "      <td>155.3193</td>\n",
       "      <td>158.3802</td>\n",
       "      <td>121.7706</td>\n",
       "      <td>169.8739</td>\n",
       "      <td>149.7853</td>\n",
       "      <td>149.6636</td>\n",
       "      <td>157.468</td>\n",
       "      <td>160.4276</td>\n",
       "    </tr>\n",
       "  </tbody>\n",
       "</table>\n",
       "<p>5 rows × 142 columns</p>\n",
       "</div>"
      ],
      "text/plain": [
       "                              1         2         3         4         5    \\\n",
       "Time                                                                        \n",
       "1970-01-01 00:00:00.000  130.1223  130.4467  131.7845  172.6916  154.5692   \n",
       "1970-01-01 00:00:00.001  129.9399  130.1021  131.4399  173.6038  154.9138   \n",
       "1970-01-01 00:00:00.002  129.6561  129.6764  131.2778  174.4146  155.4409   \n",
       "1970-01-01 00:00:00.003  129.3926  129.1899  130.9737  175.1241  155.7652   \n",
       "1970-01-01 00:00:00.004  129.0074  128.9466  130.7102  175.9552  156.1098   \n",
       "\n",
       "                              6         7         8         9         10   \\\n",
       "Time                                                                        \n",
       "1970-01-01 00:00:00.000   155.522  131.0142  126.5749  148.0217  155.6233   \n",
       "1970-01-01 00:00:00.001  155.2382  130.5075  126.2911  147.7784  156.0085   \n",
       "1970-01-01 00:00:00.002  154.8733  130.1831  125.9059  147.4946  156.5558   \n",
       "1970-01-01 00:00:00.003    154.63  129.7777  125.5613  147.2919  157.0423   \n",
       "1970-01-01 00:00:00.004  154.4476   129.575   125.014  147.1906  157.5896   \n",
       "\n",
       "                         ...       133       134       135       136  \\\n",
       "Time                     ...                                           \n",
       "1970-01-01 00:00:00.000  ...  136.5482  120.8382  156.1301  160.6708   \n",
       "1970-01-01 00:00:00.001  ...  137.2375   120.453  155.8666  159.9005   \n",
       "1970-01-01 00:00:00.002  ...  138.0888  119.9462  155.6841  159.3532   \n",
       "1970-01-01 00:00:00.003  ...  138.9402  119.6016  155.4814  158.8464   \n",
       "1970-01-01 00:00:00.004  ...  139.7511   119.257  155.3193  158.3802   \n",
       "\n",
       "                              137       138       139       140       141  \\\n",
       "Time                                                                        \n",
       "1970-01-01 00:00:00.000   122.845  167.2386  150.5961   145.731  160.4884   \n",
       "1970-01-01 00:00:00.001  122.7031  167.9279  150.4339  146.7649  159.8194   \n",
       "1970-01-01 00:00:00.002  122.2571  168.6779  150.2515  147.6771  158.9275   \n",
       "1970-01-01 00:00:00.003  122.0342   169.286   149.988  148.6501  158.3396   \n",
       "1970-01-01 00:00:00.004  121.7706  169.8739  149.7853  149.6636   157.468   \n",
       "\n",
       "                              142  \n",
       "Time                               \n",
       "1970-01-01 00:00:00.000  161.1979  \n",
       "1970-01-01 00:00:00.001  161.1168  \n",
       "1970-01-01 00:00:00.002  160.8938  \n",
       "1970-01-01 00:00:00.003  160.6505  \n",
       "1970-01-01 00:00:00.004  160.4276  \n",
       "\n",
       "[5 rows x 142 columns]"
      ]
     },
     "execution_count": 3,
     "metadata": {},
     "output_type": "execute_result"
    }
   ],
   "source": [
    "#Create intermediary dataframes separating data and metadata to facilitate\n",
    "#further processing\n",
    "df_data = df.iloc[:, 5:].T.reset_index()\n",
    "df_data = df_data.rename(columns={0:\"Time\"})\n",
    "df_data.Time = pd.to_datetime(df_data.Time, unit=\"s\")\n",
    "df_data.index = df_data.Time\n",
    "df_data = df_data.iloc[:, 1:]\n",
    "df_meta = df.iloc[:, :5].rename(columns={\"Condition\":\"Surgery\"})\n",
    "df_data.head()"
   ]
  },
  {
   "cell_type": "code",
   "execution_count": 4,
   "metadata": {
    "id": "xUEF8nzPem8d"
   },
   "outputs": [],
   "source": [
    "#@title Downsampler\n",
    "def downsample(freq, df = df_data, meta = df_meta):\n",
    "    '''\n",
    "    Downsample BP data to specified samplerate in milliseconds by taking the mean\n",
    "    '''\n",
    "    #convert the samplerate provided (in Hz) to time in milliseconds.\n",
    "    ms = 1 / freq * 1000\n",
    "    ms = round(ms, 3)\n",
    "    #Resample the dataframe using the df.resample method\n",
    "    df = df.resample(f\"{ms}ms\").mean()\n",
    "    df = pd.concat([df_meta, df.reset_index(drop=True).T], axis = 1)\n",
    "    return df"
   ]
  },
  {
   "cell_type": "code",
   "execution_count": 5,
   "metadata": {
    "colab": {
     "base_uri": "https://localhost:8080/"
    },
    "id": "g1Fou_lgFgw1",
    "outputId": "bb10d79a-0e22-4eff-b535-308debb5f1f9"
   },
   "outputs": [
    {
     "name": "stdout",
     "output_type": "stream",
     "text": [
      "downsampler is done!\n",
      "    ID   Sex Diet     Age Surgery          0          1          2          3  \\\n",
      "1   F1  Male   NC  24 wks     NaN   128.9324    131.371  143.77286  154.66248   \n",
      "2   F9  Male   NC  24 wks     NaN  128.74593  125.09104  122.15783  121.07941   \n",
      "3  F10  Male   NC  24 wks     NaN  130.65341  128.05468  124.47278  120.65574   \n",
      "4  F17  Male   NC  24 wks     NaN   176.1782  181.96151  185.03258  184.17715   \n",
      "5  F18  Male   NC  24 wks     NaN  156.39563  160.60798  163.70943  164.17161   \n",
      "\n",
      "           4  ...      30390      30391      30392      30393      30394  \\\n",
      "1  159.93294  ...        NaN        NaN        NaN        NaN        NaN   \n",
      "2  128.68713  ...  125.88568  122.77812  120.26045  123.95789  134.70358   \n",
      "3   117.0414  ...        NaN        NaN        NaN        NaN        NaN   \n",
      "4  178.59042  ...        NaN        NaN        NaN        NaN        NaN   \n",
      "5  161.11677  ...        NaN        NaN        NaN        NaN        NaN   \n",
      "\n",
      "       30395      30396     30397      30398      30399  \n",
      "1        NaN        NaN       NaN        NaN        NaN  \n",
      "2  145.67023  151.59952  153.4239  152.80767  149.46498  \n",
      "3        NaN        NaN       NaN        NaN        NaN  \n",
      "4        NaN        NaN       NaN        NaN        NaN  \n",
      "5        NaN        NaN       NaN        NaN        NaN  \n",
      "\n",
      "[5 rows x 30405 columns]\n"
     ]
    }
   ],
   "source": [
    "# @title Call Downsampler\n",
    "freq = 100\n",
    "\n",
    "df_done = downsample(freq)\n",
    "print(\"downsampler is done!\")\n",
    "print(df_done.head())"
   ]
  },
  {
   "cell_type": "code",
   "execution_count": 6,
   "metadata": {
    "id": "7G4P54na3Mzj"
   },
   "outputs": [],
   "source": [
    "# Create folders for PSD data & figures\n",
    "if not os.path.exists(\"PSD_data\"):\n",
    "                os.makedirs(\"PSD_data\")\n",
    "        \n",
    "if not os.path.exists(\"PSD_figures\"):\n",
    "                os.makedirs(\"PSD_figures\")"
   ]
  },
  {
   "cell_type": "code",
   "execution_count": null,
   "metadata": {
    "colab": {
     "base_uri": "https://localhost:8080/",
     "height": 449
    },
    "id": "F-shdUlUHxJS",
    "outputId": "f19ba90d-13a0-4737-9995-4581eb803658"
   },
   "outputs": [
    {
     "data": {
      "image/png": "[encoded data removed]",
      "text/plain": [
       "<Figure size 640x480 with 1 Axes>"
      ]
     },
     "metadata": {},
     "output_type": "display_data"
    }
   ],
   "source": [
    "# @title Binary Classifications Salient Frequencies\n",
    "\n",
    "y=df_done.set_index(['ID', 'Sex', 'Diet', 'Age', 'Surgery'])\n",
    "\n",
    "for labels, data in y.iterrows():\n",
    "    a, b, c, d, e = labels\n",
    "    name = str(a) + str(b) + str(c) + str(d) + str(e)\n",
    "    ts = data.dropna()\n",
    "    f, psd = signal.welch(ts, fs=100, nperseg=256)\n",
    "\n",
    "    start_freq_47 = 42.578125  # Starting frequency\n",
    "    end_freq_47 = 47.65625  # Ending frequency\n",
    "\n",
    "    # Find the indices corresponding to the specified frequency range\n",
    "    start_index_47 = np.where(all_data['freq'] >= start_freq_47)[0][0]\n",
    "    end_index_47 = np.where(all_data['freq'] <= end_freq_47)[0][-1]\n",
    "\n",
    "    # Extract the frequency and PSD values within the specified range\n",
    "    freq_range_47 = all_data['freq'].iloc[start_index_47:end_index_47 + 1]\n",
    "    psd_range_47 = all_data[column].iloc[start_index_47:end_index_47 + 1]\n",
    "\n",
    "    # Calculate the area under the curve using the trapezoidal rule\n",
    "    area_47 = trapz(psd_range_47, x=freq_range_47)                \n",
    "\n",
    "    analysis = pd.DataFrame({'freq': f, 'psd': psd, 'area 47': area_47})\n",
    "    analysis.to_excel(f'PSD_data/{name}.xlsx', index=False)\n",
    "\n",
    "    # Plot the PSD\n",
    "    plt.clf()\n",
    "    plt.semilogy(f, psd)\n",
    "    plt.xlabel('Frequency (Hz)')\n",
    "    plt.ylabel('PSD')\n",
    "    plt.savefig(f'PSD_figures/{name}.png')"
   ]
  },
  {
   "cell_type": "code",
   "execution_count": null,
   "metadata": {
    "id": "889krmJWIz0X"
   },
   "outputs": [],
   "source": [
    "# @title Multiclass Salient Frequencies\n",
    "\n",
    "y=df_done.set_index(['ID', 'Sex', 'Diet', 'Age', 'Surgery'])\n",
    "\n",
    "for labels, data in y.iterrows():\n",
    "    a, b, c, d, e = labels\n",
    "    name = str(a) + str(b) + str(c) + str(d) + str(e)\n",
    "    ts = data.dropna()\n",
    "    f, psd = signal.welch(ts, fs=100, nperseg=256)\n",
    "\n",
    "    start_freq_47 = 42.578125  # Starting frequency\n",
    "    end_freq_47 = 47.65625  # Ending frequency\n",
    "\n",
    "    # Find the indices corresponding to the specified frequency range\n",
    "    start_index_47 = np.where(all_data['freq'] >= start_freq_47)[0][0]\n",
    "    end_index_47 = np.where(all_data['freq'] <= end_freq_47)[0][-1]\n",
    "\n",
    "    # Extract the frequency and PSD values within the specified range\n",
    "    freq_range_47 = all_data['freq'].iloc[start_index_47:end_index_47 + 1]\n",
    "    psd_range_47 = all_data[column].iloc[start_index_47:end_index_47 + 1]\n",
    "\n",
    "    # Calculate the area under the curve using the trapezoidal rule\n",
    "    area_47 = trapz(psd_range_47, x=freq_range_47)\n",
    "    analysis.to_excel(f'PSD_data/{name}.xlsx', index=False)\n",
    "\n",
    "    # Plot the PSD\n",
    "    #plt.clf()\n",
    "    #plt.semilogy(f, psd)\n",
    "    #plt.xlabel('Frequency (Hz)')\n",
    "    #plt.ylabel('PSD')\n",
    "    #plt.savefig(f'PSD_figures/{name}.png')"
   ]
  },
  {
   "cell_type": "code",
   "execution_count": null,
   "metadata": {
    "colab": {
     "base_uri": "https://localhost:8080/"
    },
    "id": "PwTU3ml9Bp9b",
    "outputId": "c6c27132-8827-4da5-dd48-054a4027bcdc"
   },
   "outputs": [
    {
     "name": "stdout",
     "output_type": "stream",
     "text": [
      "F1MaleNC24 wksnan 3.074385749825233\n"
     ]
    }
   ],
   "source": [
    "# @title code for AUC of PSD Plot\n",
    "y=df_done.set_index(['ID', 'Sex', 'Diet', 'Age', 'Surgery'])\n",
    "\n",
    "for labels, data in y.iterrows():\n",
    "    a, b, c, d, e = labels\n",
    "    name = str(a) + str(b) + str(c) + str(d) + str(e)\n",
    "    ts = data.dropna()\n",
    "    f, psd = signal.welch(ts, fs=100, nperseg=256)\n",
    "\n",
    "    start_freq = 42.578125  # Starting frequency\n",
    "    end_freq = 47.65625  # Ending frequency\n",
    "\n",
    "    # Find the indices corresponding to the specified frequency range\n",
    "    start_index = np.where(f >= start_freq)[0][0]\n",
    "    end_index = np.where(f <= end_freq)[0][-1]\n",
    "\n",
    "    # Extract the frequency and PSD values within the specified range\n",
    "    freq_range = f[start_index:end_index + 1]\n",
    "    psd_range = psd[start_index:end_index + 1]\n",
    "\n",
    "    # Calculate the area under the curve using the trapezoidal rule\n",
    "    area = trapz(psd_range, x=freq_range)\n",
    "\n",
    "    areas = pd.DataFrame()\n",
    "    break"
   ]
  },
  {
   "cell_type": "code",
   "execution_count": null,
   "metadata": {
    "id": "f1LMgny3zz1o"
   },
   "outputs": [],
   "source": [
    "from scipy.integrate import trapz\n",
    "\n",
    "# assume you have frequency and PSD values in two numpy arrays\n",
    "freq = 100\n",
    "psd = psd\n",
    "\n",
    "# calculate the area under the curve using the trapezoidal rule\n",
    "area = trapz(psd, x=freq)\n",
    "\n",
    "print('Area under the curve: {:.2f}'.format(area))"
   ]
  }
 ],
 "metadata": {
  "colab": {
   "provenance": []
  },
  "kernelspec": {
   "display_name": "Python 3 (ipykernel)",
   "language": "python",
   "name": "python3"
  },
  "language_info": {
   "codemirror_mode": {
    "name": "ipython",
    "version": 3
   },
   "file_extension": ".py",
   "mimetype": "text/x-python",
   "name": "python",
   "nbconvert_exporter": "python",
   "pygments_lexer": "ipython3",
   "version": "3.11.5"
  },
  "nbTranslate": {
   "displayLangs": [
    "*"
   ],
   "hotkey": "alt-t",
   "langInMainMenu": true,
   "sourceLang": "en",
   "targetLang": "fr",
   "useGoogleTranslate": true
  }
 },
 "nbformat": 4,
 "nbformat_minor": 1
}
